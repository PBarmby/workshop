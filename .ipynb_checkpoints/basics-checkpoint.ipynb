{
 "cells": [
  {
   "cell_type": "markdown",
   "metadata": {},
   "source": [
    "# Python basics"
   ]
  },
  {
   "cell_type": "markdown",
   "metadata": {},
   "source": [
    "This notebook is aimed to people who know nothing of python. It goes through very basic concepts."
   ]
  },
  {
   "cell_type": "markdown",
   "metadata": {},
   "source": [
    "## Install Anaconda"
   ]
  },
  {
   "cell_type": "markdown",
   "metadata": {},
   "source": [
    "First of all you need to have a working installation of python. If you don't already have it, you may want to install Anaconda. Just follow the steps given here: https://docs.anaconda.com/anaconda/install/mac-os/.\n",
    "\n",
    "If unsure you can verify that Anaconda is installed by typing in a terminal (https://docs.anaconda.com/anaconda/install/verify-install/):\n",
    "```bash\n",
    "conda list\n",
    "```\n",
    "If a list of installed packages is displayed you're good to go :)"
   ]
  },
  {
   "cell_type": "markdown",
   "metadata": {},
   "source": [
    "## use python with a text editor"
   ]
  },
  {
   "cell_type": "markdown",
   "metadata": {},
   "source": [
    "As any programming language a good old text editor is enough to use python. This is the most classic way to run a sequence of instructions (i.e. a program).\n",
    "\n",
    "1. Open a text editor and write `print(hello)`\n",
    "2. Save your file as `test.py` and close the editor.\n",
    "3. Open a terminal and go to the folder where `test.py` has been saved and type (in the terminal): `python test.py`\n",
    "\n",
    "It should print `hello` in the terminal."
   ]
  },
  {
   "cell_type": "markdown",
   "metadata": {},
   "source": [
    "## open a jupyter notebook"
   ]
  },
  {
   "cell_type": "markdown",
   "metadata": {},
   "source": [
    "Using a text editor is enough do anything but jupyter notebooks are an easier way to use python code for data analysis.\n",
    "\n",
    "As anaconda is installed, you can install jupyter with the following command (typed in a terminal):\n",
    "\n",
    "```bash\n",
    "conda install -c conda-forge jupyterlab\n",
    "```\n",
    "\n",
    "You can then launch Jupyter with the command:\n",
    "\n",
    "```bash\n",
    "jupyter lab\n",
    "```\n",
    "\n",
    "It will open a new page in your default web browser (yes it interfaces with a web browser).\n",
    "\n",
    "In the first line of the notebook type:"
   ]
  },
  {
   "cell_type": "code",
   "execution_count": 5,
   "metadata": {},
   "outputs": [
    {
     "name": "stdout",
     "output_type": "stream",
     "text": [
      "hello jupyter\n"
     ]
    }
   ],
   "source": [
    "print('hello jupyter') # press SHIFT + ENTER when you're finished to run the command"
   ]
  },
  {
   "cell_type": "markdown",
   "metadata": {},
   "source": [
    "## handling arrays with numpy"
   ]
  },
  {
   "cell_type": "code",
   "execution_count": 6,
   "metadata": {},
   "outputs": [],
   "source": [
    "import numpy as np # import numpy module (for array handling) and reference is as np"
   ]
  },
  {
   "cell_type": "code",
   "execution_count": 8,
   "metadata": {},
   "outputs": [
    {
     "name": "stdout",
     "output_type": "stream",
     "text": [
      "[ 0  1  2  3  4  5  6  7  8  9 10 11 12 13 14 15 16 17 18 19 20 21 22 23\n",
      " 24]\n"
     ]
    }
   ],
   "source": [
    "a = np.arange(25) # create an indexed array of 25 cells and associate it to a variable called `a`\n",
    "print(a) # print the array"
   ]
  },
  {
   "cell_type": "code",
   "execution_count": 10,
   "metadata": {},
   "outputs": [
    {
     "name": "stdout",
     "output_type": "stream",
     "text": [
      "[ 0.   0.5  1.   1.5  2.   2.5  3.   3.5  4.   4.5  5.   5.5  6.   6.5\n",
      "  7.   7.5  8.   8.5  9.   9.5 10.  10.5 11.  11.5 12. ]\n"
     ]
    }
   ],
   "source": [
    "print(a / 2.) # print a/2"
   ]
  },
  {
   "cell_type": "code",
   "execution_count": 11,
   "metadata": {},
   "outputs": [
    {
     "name": "stdout",
     "output_type": "stream",
     "text": [
      "[1. 1. 1. 1. 1.]\n",
      "[0. 0. 0. 0. 0.]\n",
      "[-1.  -0.5  0.   0.5  1. ]\n"
     ]
    }
   ],
   "source": [
    "# now you can try these and see what happens\n",
    "print(np.ones(5))\n",
    "print(np.zeros(5))\n",
    "print(np.linspace(-1,1,5))"
   ]
  },
  {
   "cell_type": "code",
   "execution_count": 16,
   "metadata": {},
   "outputs": [
    {
     "name": "stdout",
     "output_type": "stream",
     "text": [
      "0.5\n",
      "[-0.5  0. ]\n",
      "[0.36787944 0.60653066 1.         1.64872127 2.71828183]\n"
     ]
    }
   ],
   "source": [
    "x = np.linspace(-1,1,5)\n",
    "print(x[3]) # return the value in the fourth cell\n",
    "print(x[1:3]) # return a slice of the array\n",
    "print(np.exp(x)) # print the exponential of the vector called 'x'"
   ]
  },
  {
   "cell_type": "code",
   "execution_count": 17,
   "metadata": {},
   "outputs": [
    {
     "name": "stdout",
     "output_type": "stream",
     "text": [
      "[False False False  True  True]\n"
     ]
    }
   ],
   "source": [
    "print(np.exp(x) > 1) # a condition on an array produces a boolean array"
   ]
  },
  {
   "cell_type": "code",
   "execution_count": 19,
   "metadata": {},
   "outputs": [
    {
     "name": "stdout",
     "output_type": "stream",
     "text": [
      "[0.5 1. ]\n"
     ]
    }
   ],
   "source": [
    "print(x[np.exp(x) > 1]) # return the values of x where the condition on exp(x) is fulfilled"
   ]
  },
  {
   "cell_type": "code",
   "execution_count": 22,
   "metadata": {},
   "outputs": [
    {
     "name": "stdout",
     "output_type": "stream",
     "text": [
      "[0 2 4 6 8]\n",
      "[0 1 2 3 4]\n",
      "[ 0  2  8 18 32]\n"
     ]
    }
   ],
   "source": [
    "x = np.arange(5) * 2\n",
    "y = np.arange(5)\n",
    "print(x)\n",
    "print(y)\n",
    "print(x * y) # matrix operation each cell of x is multiplied by its corresponding cell in y"
   ]
  },
  {
   "cell_type": "markdown",
   "metadata": {},
   "source": [
    "## functions"
   ]
  },
  {
   "cell_type": "code",
   "execution_count": 24,
   "metadata": {},
   "outputs": [
    {
     "name": "stdout",
     "output_type": "stream",
     "text": [
      "[ 0  1  4  9 16]\n"
     ]
    }
   ],
   "source": [
    "def square(x):\n",
    "    return x**2\n",
    "\n",
    "print(square(np.arange(5)))"
   ]
  },
  {
   "cell_type": "code",
   "execution_count": 48,
   "metadata": {},
   "outputs": [
    {
     "name": "stdout",
     "output_type": "stream",
     "text": [
      "('mean: ', 0.11650733824812658)\n",
      "('std: ', 1.1756060374008175)\n",
      "('threshold: ', 4.818931487851397)\n",
      "(array([6.]), array([50]))\n"
     ]
    }
   ],
   "source": [
    "def detect(x):\n",
    "    \"\"\"detect signal over 4 sigmas. Return the value of the detected signal and its index\"\"\"\n",
    "    x_mean = np.mean(x)\n",
    "    x_std = np.std(x)\n",
    "    print('mean: ', x_mean)\n",
    "    print('std: ', x_std)\n",
    "    th = x_mean + 4*x_std\n",
    "    print('threshold: ', th)\n",
    "    return x[x > th], np.arange(x.size)[x>th]\n",
    "\n",
    "# create a random normal distribution of values of std 1 with one channel larger than 5\n",
    "a = np.random.standard_normal(size=100)\n",
    "a[50] = 6\n",
    "print(detect(a))"
   ]
  },
  {
   "cell_type": "code",
   "execution_count": null,
   "metadata": {},
   "outputs": [],
   "source": []
  }
 ],
 "metadata": {
  "kernelspec": {
   "display_name": "Python 2",
   "language": "python",
   "name": "python2"
  },
  "language_info": {
   "codemirror_mode": {
    "name": "ipython",
    "version": 2
   },
   "file_extension": ".py",
   "mimetype": "text/x-python",
   "name": "python",
   "nbconvert_exporter": "python",
   "pygments_lexer": "ipython2",
   "version": "2.7.16"
  }
 },
 "nbformat": 4,
 "nbformat_minor": 2
}
